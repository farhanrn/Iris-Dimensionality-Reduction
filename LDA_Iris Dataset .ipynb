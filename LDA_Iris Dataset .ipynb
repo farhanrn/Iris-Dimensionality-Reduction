{
 "cells": [
  {
   "cell_type": "code",
   "execution_count": 1,
   "id": "c81195c4",
   "metadata": {
    "id": "c81195c4"
   },
   "outputs": [],
   "source": [
    "from sklearn.model_selection import train_test_split\n",
    "from sklearn.model_selection import RepeatedStratifiedKFold\n",
    "from sklearn.model_selection import cross_val_score\n",
    "from sklearn.discriminant_analysis import LinearDiscriminantAnalysis\n",
    "from sklearn.linear_model import LogisticRegression\n",
    "from sklearn.metrics import f1_score\n",
    "from sklearn import datasets\n",
    "from sklearn.preprocessing import StandardScaler\n",
    "import matplotlib.pyplot as plt\n",
    "import pandas as pd\n",
    "import numpy as np"
   ]
  },
  {
   "cell_type": "code",
   "execution_count": 2,
   "id": "717fab6d",
   "metadata": {
    "colab": {
     "base_uri": "https://localhost:8080/",
     "height": 206
    },
    "id": "717fab6d",
    "outputId": "29394c9c-1d37-4287-ad12-ccf2622b0f64"
   },
   "outputs": [
    {
     "data": {
      "text/html": [
       "<div>\n",
       "<style scoped>\n",
       "    .dataframe tbody tr th:only-of-type {\n",
       "        vertical-align: middle;\n",
       "    }\n",
       "\n",
       "    .dataframe tbody tr th {\n",
       "        vertical-align: top;\n",
       "    }\n",
       "\n",
       "    .dataframe thead th {\n",
       "        text-align: right;\n",
       "    }\n",
       "</style>\n",
       "<table border=\"1\" class=\"dataframe\">\n",
       "  <thead>\n",
       "    <tr style=\"text-align: right;\">\n",
       "      <th></th>\n",
       "      <th>s_length</th>\n",
       "      <th>s_width</th>\n",
       "      <th>p_length</th>\n",
       "      <th>p_width</th>\n",
       "      <th>target</th>\n",
       "      <th>species</th>\n",
       "    </tr>\n",
       "  </thead>\n",
       "  <tbody>\n",
       "    <tr>\n",
       "      <th>0</th>\n",
       "      <td>5.1</td>\n",
       "      <td>3.5</td>\n",
       "      <td>1.4</td>\n",
       "      <td>0.2</td>\n",
       "      <td>0.0</td>\n",
       "      <td>setosa</td>\n",
       "    </tr>\n",
       "    <tr>\n",
       "      <th>1</th>\n",
       "      <td>4.9</td>\n",
       "      <td>3.0</td>\n",
       "      <td>1.4</td>\n",
       "      <td>0.2</td>\n",
       "      <td>0.0</td>\n",
       "      <td>setosa</td>\n",
       "    </tr>\n",
       "    <tr>\n",
       "      <th>2</th>\n",
       "      <td>4.7</td>\n",
       "      <td>3.2</td>\n",
       "      <td>1.3</td>\n",
       "      <td>0.2</td>\n",
       "      <td>0.0</td>\n",
       "      <td>setosa</td>\n",
       "    </tr>\n",
       "    <tr>\n",
       "      <th>3</th>\n",
       "      <td>4.6</td>\n",
       "      <td>3.1</td>\n",
       "      <td>1.5</td>\n",
       "      <td>0.2</td>\n",
       "      <td>0.0</td>\n",
       "      <td>setosa</td>\n",
       "    </tr>\n",
       "    <tr>\n",
       "      <th>4</th>\n",
       "      <td>5.0</td>\n",
       "      <td>3.6</td>\n",
       "      <td>1.4</td>\n",
       "      <td>0.2</td>\n",
       "      <td>0.0</td>\n",
       "      <td>setosa</td>\n",
       "    </tr>\n",
       "  </tbody>\n",
       "</table>\n",
       "</div>"
      ],
      "text/plain": [
       "   s_length  s_width  p_length  p_width  target species\n",
       "0       5.1      3.5       1.4      0.2     0.0  setosa\n",
       "1       4.9      3.0       1.4      0.2     0.0  setosa\n",
       "2       4.7      3.2       1.3      0.2     0.0  setosa\n",
       "3       4.6      3.1       1.5      0.2     0.0  setosa\n",
       "4       5.0      3.6       1.4      0.2     0.0  setosa"
      ]
     },
     "execution_count": 2,
     "metadata": {},
     "output_type": "execute_result"
    }
   ],
   "source": [
    "#load iris dataset\n",
    "iris = datasets.load_iris()\n",
    "#convert dataset to pandas DataFrame\n",
    "df = pd.DataFrame(data = np.c_[iris['data'], iris['target']],columns = iris['feature_names'] + ['target'])\n",
    "df['species'] = pd.Categorical.from_codes(iris.target, iris.target_names)\n",
    "df.columns = ['s_length', 's_width', 'p_length', 'p_width', 'target', 'species']\n",
    "\n",
    "#view first 5 rows of DataFrame\n",
    "df.head()"
   ]
  },
  {
   "cell_type": "code",
   "execution_count": 3,
   "id": "Fsn5P7WfsZNd",
   "metadata": {
    "colab": {
     "base_uri": "https://localhost:8080/"
    },
    "id": "Fsn5P7WfsZNd",
    "outputId": "0b273499-c934-46bf-de42-5fafbfe3c7e2"
   },
   "outputs": [
    {
     "data": {
      "text/plain": [
       "3"
      ]
     },
     "execution_count": 3,
     "metadata": {},
     "output_type": "execute_result"
    }
   ],
   "source": [
    "df.species.nunique()"
   ]
  },
  {
   "cell_type": "code",
   "execution_count": 4,
   "id": "fca71d54",
   "metadata": {
    "colab": {
     "base_uri": "https://localhost:8080/"
    },
    "id": "fca71d54",
    "outputId": "8c64e5d6-627a-4276-f652-d61fc5f8c5e5"
   },
   "outputs": [
    {
     "data": {
      "text/plain": [
       "150"
      ]
     },
     "execution_count": 4,
     "metadata": {},
     "output_type": "execute_result"
    }
   ],
   "source": [
    "#find how many total observations are in dataset\n",
    "len(df.index)"
   ]
  },
  {
   "cell_type": "code",
   "execution_count": 5,
   "id": "QG1Huw2kxlCy",
   "metadata": {
    "id": "QG1Huw2kxlCy"
   },
   "outputs": [],
   "source": [
    "#define predictor and response variables\n",
    "X = df[['s_length', 's_width', 'p_length', 'p_width']]\n",
    "y = df['species']"
   ]
  },
  {
   "cell_type": "code",
   "execution_count": 6,
   "id": "7N9l3LS6xSIa",
   "metadata": {
    "id": "7N9l3LS6xSIa"
   },
   "outputs": [],
   "source": [
    "X_train, X_test, y_train, y_test = train_test_split(X, y, test_size=0.2, random_state=0)"
   ]
  },
  {
   "cell_type": "code",
   "execution_count": 7,
   "id": "XoR13HtOx1v_",
   "metadata": {
    "id": "XoR13HtOx1v_"
   },
   "outputs": [],
   "source": [
    "dp = StandardScaler()\n",
    "X_train = dp.fit_transform(X_train)\n",
    "X_test = dp.fit_transform(X_test)"
   ]
  },
  {
   "cell_type": "code",
   "execution_count": 8,
   "id": "xtswzI6hWX0s",
   "metadata": {
    "id": "xtswzI6hWX0s"
   },
   "outputs": [],
   "source": [
    "lda = LinearDiscriminantAnalysis(n_components=2)"
   ]
  },
  {
   "cell_type": "code",
   "execution_count": 9,
   "id": "fd9b05ba",
   "metadata": {
    "colab": {
     "base_uri": "https://localhost:8080/"
    },
    "id": "fd9b05ba",
    "outputId": "17fdb272-e716-4eba-9951-e9429bea1f90"
   },
   "outputs": [
    {
     "data": {
      "text/plain": [
       "LinearDiscriminantAnalysis(n_components=2)"
      ]
     },
     "execution_count": 9,
     "metadata": {},
     "output_type": "execute_result"
    }
   ],
   "source": [
    "#Fit the LDA model\n",
    "model = LinearDiscriminantAnalysis(n_components=2)\n",
    "model.fit(X, y)"
   ]
  },
  {
   "cell_type": "code",
   "execution_count": 10,
   "id": "f8e6bcdc",
   "metadata": {
    "colab": {
     "base_uri": "https://localhost:8080/"
    },
    "id": "f8e6bcdc",
    "outputId": "fbd5cea1-511d-40c8-e14c-eb201a5c399e"
   },
   "outputs": [
    {
     "data": {
      "text/plain": [
       "array(['setosa'], dtype='<U10')"
      ]
     },
     "execution_count": 10,
     "metadata": {},
     "output_type": "execute_result"
    }
   ],
   "source": [
    "#define new observation\n",
    "s_length= 5\n",
    "s_width= 3 \n",
    "p_length=1\n",
    "p_width=0.4 \n",
    "new = [s_length,s_width,p_length,p_width]\n",
    "\n",
    "#predict which class the new observation belongs to\n",
    "model.predict([new])"
   ]
  },
  {
   "cell_type": "code",
   "execution_count": 11,
   "id": "af42003d",
   "metadata": {
    "colab": {
     "base_uri": "https://localhost:8080/"
    },
    "id": "af42003d",
    "outputId": "a7b4801e-5ad7-4be5-8704-d38e6c7e125f"
   },
   "outputs": [
    {
     "name": "stdout",
     "output_type": "stream",
     "text": [
      "0.9800000000000001\n"
     ]
    }
   ],
   "source": [
    "#Define method to evaluate model\n",
    "cv = RepeatedStratifiedKFold(n_splits=10, n_repeats=3, random_state=1)\n",
    "\n",
    "#evaluate model\n",
    "scores = cross_val_score(model, X, y, scoring='accuracy', cv=cv)\n",
    "print(np.mean(scores))   "
   ]
  },
  {
   "cell_type": "code",
   "execution_count": 12,
   "id": "73cafd32",
   "metadata": {
    "colab": {
     "base_uri": "https://localhost:8080/",
     "height": 283
    },
    "id": "73cafd32",
    "outputId": "f2b450d3-450f-4920-d299-8a30fff7f56f"
   },
   "outputs": [
    {
     "data": {
      "image/png": "[encoded data removed]",
      "text/plain": [
       "<Figure size 432x288 with 1 Axes>"
      ]
     },
     "metadata": {
      "needs_background": "light"
     },
     "output_type": "display_data"
    }
   ],
   "source": [
    "#define data to plot\n",
    "X = iris.data\n",
    "y = iris.target\n",
    "model = LinearDiscriminantAnalysis()\n",
    "data_plot = model.fit(X, y).transform(X)\n",
    "target_names = iris.target_names\n",
    "\n",
    "#create LDA plot\n",
    "plt.figure()\n",
    "colors = ['red', 'green', 'blue']\n",
    "lw = 2\n",
    "for color, i, target_name in zip(colors, [0, 1, 2], target_names):\n",
    "    plt.scatter(data_plot[y == i, 0], data_plot[y == i, 1], alpha=.8, color=color,\n",
    "                label=target_name)\n",
    "\n",
    "#add legend to plot\n",
    "plt.legend(loc='best', shadow=False, scatterpoints=1)\n",
    "plt.xlabel('LD1')\n",
    "plt.ylabel('LD2')\n",
    "\n",
    "#display LDA plot\n",
    "plt.show()"
   ]
  }
 ],
 "metadata": {
  "colab": {
   "provenance": []
  },
  "kernelspec": {
   "display_name": "Python 3 (ipykernel)",
   "language": "python",
   "name": "python3"
  },
  "language_info": {
   "codemirror_mode": {
    "name": "ipython",
    "version": 3
   },
   "file_extension": ".py",
   "mimetype": "text/x-python",
   "name": "python",
   "nbconvert_exporter": "python",
   "pygments_lexer": "ipython3",
   "version": "3.9.12"
  }
 },
 "nbformat": 4,
 "nbformat_minor": 5
}
